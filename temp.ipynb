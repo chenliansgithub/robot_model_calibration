{
 "cells": [
  {
   "cell_type": "code",
   "execution_count": null,
   "metadata": {},
   "outputs": [],
   "source": []
  },
  {
   "cell_type": "code",
   "execution_count": 3,
   "metadata": {},
   "outputs": [],
   "source": [
    "from robot_model_calibration.dh_model import RobotDHModel"
   ]
  },
  {
   "cell_type": "code",
   "execution_count": null,
   "metadata": {},
   "outputs": [],
   "source": []
  },
  {
   "cell_type": "code",
   "execution_count": null,
   "metadata": {},
   "outputs": [],
   "source": []
  },
  {
   "cell_type": "code",
   "execution_count": 5,
   "metadata": {},
   "outputs": [
    {
     "data": {
      "text/plain": [
       "array([[ 7, 10],\n",
       "       [15, 22]])"
      ]
     },
     "execution_count": 5,
     "metadata": {},
     "output_type": "execute_result"
    }
   ],
   "source": [
    "import numpy as np\n",
    "A = np.array([[1,2],[3,4]])\n",
    "np.dot(A,A)"
   ]
  },
  {
   "cell_type": "code",
   "execution_count": 6,
   "metadata": {},
   "outputs": [
    {
     "data": {
      "text/plain": [
       "array([[ 7, 10],\n",
       "       [15, 22]])"
      ]
     },
     "execution_count": 6,
     "metadata": {},
     "output_type": "execute_result"
    }
   ],
   "source": [
    "A @ A"
   ]
  },
  {
   "cell_type": "code",
   "execution_count": 7,
   "metadata": {},
   "outputs": [
    {
     "data": {
      "text/plain": [
       "[1, 2, 3]"
      ]
     },
     "execution_count": 7,
     "metadata": {},
     "output_type": "execute_result"
    }
   ],
   "source": [
    "pos = [1,2,3,4]\n",
    "pos[:3]"
   ]
  },
  {
   "cell_type": "code",
   "execution_count": 8,
   "metadata": {},
   "outputs": [
    {
     "data": {
      "text/plain": [
       "list"
      ]
     },
     "execution_count": 8,
     "metadata": {},
     "output_type": "execute_result"
    }
   ],
   "source": [
    "type(pos)"
   ]
  },
  {
   "cell_type": "code",
   "execution_count": 17,
   "metadata": {},
   "outputs": [],
   "source": [
    "b = np.array([[[10,11,12],[13,14,15],[16,17,18]],[[19,20,21],[22,23,24],[25,26,27]]])"
   ]
  },
  {
   "cell_type": "code",
   "execution_count": 12,
   "metadata": {},
   "outputs": [],
   "source": [
    "b[1][1][0]\n",
    "b[1][1] = [100,101,102]"
   ]
  },
  {
   "cell_type": "code",
   "execution_count": 18,
   "metadata": {},
   "outputs": [
    {
     "data": {
      "text/plain": [
       "2"
      ]
     },
     "execution_count": 18,
     "metadata": {},
     "output_type": "execute_result"
    }
   ],
   "source": [
    "len(b)"
   ]
  },
  {
   "cell_type": "code",
   "execution_count": 19,
   "metadata": {},
   "outputs": [],
   "source": [
    "c = [1,2,3]\n",
    "d = np.array(c)"
   ]
  },
  {
   "cell_type": "code",
   "execution_count": 20,
   "metadata": {},
   "outputs": [
    {
     "data": {
      "text/plain": [
       "[1, 2, 3]"
      ]
     },
     "execution_count": 20,
     "metadata": {},
     "output_type": "execute_result"
    }
   ],
   "source": [
    "c"
   ]
  },
  {
   "cell_type": "code",
   "execution_count": 21,
   "metadata": {},
   "outputs": [
    {
     "data": {
      "text/plain": [
       "array([1, 2, 3])"
      ]
     },
     "execution_count": 21,
     "metadata": {},
     "output_type": "execute_result"
    }
   ],
   "source": [
    "d"
   ]
  },
  {
   "cell_type": "code",
   "execution_count": 22,
   "metadata": {},
   "outputs": [
    {
     "data": {
      "text/plain": [
       "list"
      ]
     },
     "execution_count": 22,
     "metadata": {},
     "output_type": "execute_result"
    }
   ],
   "source": [
    "type(c)"
   ]
  },
  {
   "cell_type": "code",
   "execution_count": 23,
   "metadata": {},
   "outputs": [
    {
     "data": {
      "text/plain": [
       "numpy.ndarray"
      ]
     },
     "execution_count": 23,
     "metadata": {},
     "output_type": "execute_result"
    }
   ],
   "source": [
    "type(d)"
   ]
  },
  {
   "cell_type": "code",
   "execution_count": 24,
   "metadata": {},
   "outputs": [],
   "source": [
    "x = [[[10,11,12],[13,14,15],[16,17,18]],[[19,20,21],[22,23,24],[25,26,27]]]\n",
    "y = np.array(x)"
   ]
  },
  {
   "cell_type": "code",
   "execution_count": 25,
   "metadata": {},
   "outputs": [
    {
     "data": {
      "text/plain": [
       "array([[[10, 11, 12],\n",
       "        [13, 14, 15],\n",
       "        [16, 17, 18]],\n",
       "\n",
       "       [[19, 20, 21],\n",
       "        [22, 23, 24],\n",
       "        [25, 26, 27]]])"
      ]
     },
     "execution_count": 25,
     "metadata": {},
     "output_type": "execute_result"
    }
   ],
   "source": [
    "y"
   ]
  },
  {
   "cell_type": "code",
   "execution_count": 26,
   "metadata": {},
   "outputs": [
    {
     "data": {
      "text/plain": [
       "[[[10, 11, 12], [13, 14, 15], [16, 17, 18]],\n",
       " [[19, 20, 21], [22, 23, 24], [25, 26, 27]]]"
      ]
     },
     "execution_count": 26,
     "metadata": {},
     "output_type": "execute_result"
    }
   ],
   "source": [
    "x"
   ]
  },
  {
   "cell_type": "code",
   "execution_count": 27,
   "metadata": {},
   "outputs": [
    {
     "data": {
      "text/plain": [
       "3"
      ]
     },
     "execution_count": 27,
     "metadata": {},
     "output_type": "execute_result"
    }
   ],
   "source": [
    "len(y[0])"
   ]
  },
  {
   "cell_type": "code",
   "execution_count": 28,
   "metadata": {},
   "outputs": [
    {
     "data": {
      "text/plain": [
       "3"
      ]
     },
     "execution_count": 28,
     "metadata": {},
     "output_type": "execute_result"
    }
   ],
   "source": [
    "len(y[0][0])"
   ]
  },
  {
   "cell_type": "code",
   "execution_count": 29,
   "metadata": {},
   "outputs": [
    {
     "data": {
      "text/plain": [
       "2.23606797749979"
      ]
     },
     "execution_count": 29,
     "metadata": {},
     "output_type": "execute_result"
    }
   ],
   "source": [
    "v = np.array([1,2])\n",
    "np.linalg.norm(v)"
   ]
  },
  {
   "cell_type": "code",
   "execution_count": 30,
   "metadata": {},
   "outputs": [
    {
     "data": {
      "text/plain": [
       "2.23606797749979"
      ]
     },
     "execution_count": 30,
     "metadata": {},
     "output_type": "execute_result"
    }
   ],
   "source": [
    "np.sqrt(5)"
   ]
  },
  {
   "cell_type": "code",
   "execution_count": 55,
   "metadata": {},
   "outputs": [
    {
     "data": {
      "text/plain": [
       "list"
      ]
     },
     "execution_count": 55,
     "metadata": {},
     "output_type": "execute_result"
    }
   ],
   "source": []
  },
  {
   "cell_type": "code",
   "execution_count": null,
   "metadata": {},
   "outputs": [],
   "source": []
  },
  {
   "cell_type": "code",
   "execution_count": 60,
   "metadata": {},
   "outputs": [
    {
     "data": {
      "text/plain": [
       "matrix([[1, 2, 3, 4],\n",
       "        [5, 6, 7, 8]])"
      ]
     },
     "execution_count": 60,
     "metadata": {},
     "output_type": "execute_result"
    }
   ],
   "source": []
  },
  {
   "cell_type": "code",
   "execution_count": 40,
   "metadata": {},
   "outputs": [
    {
     "data": {
      "text/plain": [
       "numpy.matrix"
      ]
     },
     "execution_count": 40,
     "metadata": {},
     "output_type": "execute_result"
    }
   ],
   "source": [
    "type(c)"
   ]
  },
  {
   "cell_type": "code",
   "execution_count": 45,
   "metadata": {},
   "outputs": [
    {
     "data": {
      "text/plain": [
       "matrix([[1, 2, 3]])"
      ]
     },
     "execution_count": 45,
     "metadata": {},
     "output_type": "execute_result"
    }
   ],
   "source": [
    "d = [1,2,3]\n",
    "np.matrix(d)"
   ]
  },
  {
   "cell_type": "code",
   "execution_count": 46,
   "metadata": {},
   "outputs": [
    {
     "data": {
      "text/plain": [
       "[1, 2, 3]"
      ]
     },
     "execution_count": 46,
     "metadata": {},
     "output_type": "execute_result"
    }
   ],
   "source": [
    "d"
   ]
  },
  {
   "cell_type": "code",
   "execution_count": 59,
   "metadata": {},
   "outputs": [
    {
     "data": {
      "text/plain": [
       "[[1, 2, 3, 4, 1], [5, 6, 7, 8, 1]]"
      ]
     },
     "execution_count": 59,
     "metadata": {},
     "output_type": "execute_result"
    }
   ],
   "source": [
    "a = [1,2,3,4]\n",
    "b = [5,6,7,8]\n",
    "x = [a,b]\n",
    "for i in range(len(x)):\n",
    "    x[i].append(1)\n",
    "x"
   ]
  },
  {
   "cell_type": "code",
   "execution_count": 61,
   "metadata": {},
   "outputs": [],
   "source": [
    "c = np.matrix(x)"
   ]
  },
  {
   "cell_type": "code",
   "execution_count": 62,
   "metadata": {},
   "outputs": [
    {
     "data": {
      "text/plain": [
       "matrix([[1, 2, 3, 4, 1],\n",
       "        [5, 6, 7, 8, 1]])"
      ]
     },
     "execution_count": 62,
     "metadata": {},
     "output_type": "execute_result"
    }
   ],
   "source": [
    "c"
   ]
  },
  {
   "cell_type": "code",
   "execution_count": 63,
   "metadata": {},
   "outputs": [
    {
     "data": {
      "text/plain": [
       "matrix([[5, 6, 7, 8, 1]])"
      ]
     },
     "execution_count": 63,
     "metadata": {},
     "output_type": "execute_result"
    }
   ],
   "source": [
    "c[1:]"
   ]
  },
  {
   "cell_type": "code",
   "execution_count": 64,
   "metadata": {},
   "outputs": [
    {
     "data": {
      "text/plain": [
       "matrix([[1, 2, 3, 4, 1]])"
      ]
     },
     "execution_count": 64,
     "metadata": {},
     "output_type": "execute_result"
    }
   ],
   "source": [
    "c[:1]"
   ]
  },
  {
   "cell_type": "code",
   "execution_count": 65,
   "metadata": {},
   "outputs": [
    {
     "data": {
      "text/plain": [
       "6"
      ]
     },
     "execution_count": 65,
     "metadata": {},
     "output_type": "execute_result"
    }
   ],
   "source": [
    "c[1,1]"
   ]
  },
  {
   "cell_type": "code",
   "execution_count": 69,
   "metadata": {},
   "outputs": [
    {
     "data": {
      "text/plain": [
       "matrix([[5, 6, 7, 8, 1]])"
      ]
     },
     "execution_count": 69,
     "metadata": {},
     "output_type": "execute_result"
    }
   ],
   "source": [
    "c[1][:]"
   ]
  },
  {
   "cell_type": "code",
   "execution_count": 70,
   "metadata": {},
   "outputs": [
    {
     "data": {
      "text/plain": [
       "matrix([[1, 2, 3, 4, 1],\n",
       "        [5, 6, 7, 8, 1]])"
      ]
     },
     "execution_count": 70,
     "metadata": {},
     "output_type": "execute_result"
    }
   ],
   "source": [
    "c"
   ]
  },
  {
   "cell_type": "code",
   "execution_count": 73,
   "metadata": {},
   "outputs": [
    {
     "data": {
      "text/plain": [
       "(2, 1)"
      ]
     },
     "execution_count": 73,
     "metadata": {},
     "output_type": "execute_result"
    }
   ],
   "source": [
    "c[:,1].shape"
   ]
  },
  {
   "cell_type": "code",
   "execution_count": 2,
   "metadata": {},
   "outputs": [],
   "source": [
    "import numpy as np\n",
    "theta = [0,-np.pi/2,0,0,0,0]\n",
    "d = [430,0,0,699.0476,0,115]\n",
    "a = [164.8701,549.6765,212.9389,0,0,0]\n",
    "alpha = [-np.pi/2,0,-np.pi/2,np.pi/2,-np.pi/2,0]\n",
    "beta = 0\n",
    "theta1 = theta + [-8.3904,3.8788,-10.9276,-5.3444,63.3274,6.9619]"
   ]
  },
  {
   "cell_type": "code",
   "execution_count": 3,
   "metadata": {},
   "outputs": [
    {
     "ename": "NameError",
     "evalue": "name 'tehta1' is not defined",
     "output_type": "error",
     "traceback": [
      "\u001b[1;31m---------------------------------------------------------------------------\u001b[0m",
      "\u001b[1;31mNameError\u001b[0m                                 Traceback (most recent call last)",
      "Cell \u001b[1;32mIn[3], line 1\u001b[0m\n\u001b[1;32m----> 1\u001b[0m tehta1\n",
      "\u001b[1;31mNameError\u001b[0m: name 'tehta1' is not defined"
     ]
    }
   ],
   "source": [
    "tehta1"
   ]
  },
  {
   "cell_type": "code",
   "execution_count": 4,
   "metadata": {},
   "outputs": [
    {
     "data": {
      "text/plain": [
       "[0,\n",
       " -1.5707963267948966,\n",
       " 0,\n",
       " 0,\n",
       " 0,\n",
       " 0,\n",
       " -8.3904,\n",
       " 3.8788,\n",
       " -10.9276,\n",
       " -5.3444,\n",
       " 63.3274,\n",
       " 6.9619]"
      ]
     },
     "execution_count": 4,
     "metadata": {},
     "output_type": "execute_result"
    }
   ],
   "source": [
    "theta1"
   ]
  },
  {
   "cell_type": "code",
   "execution_count": 5,
   "metadata": {},
   "outputs": [],
   "source": [
    "theta1 = [i+j for i,j in zip(theta1,theta)]"
   ]
  },
  {
   "cell_type": "code",
   "execution_count": 6,
   "metadata": {},
   "outputs": [
    {
     "data": {
      "text/plain": [
       "[0, -3.141592653589793, 0, 0, 0, 0]"
      ]
     },
     "execution_count": 6,
     "metadata": {},
     "output_type": "execute_result"
    }
   ],
   "source": [
    "theta1"
   ]
  },
  {
   "cell_type": "code",
   "execution_count": 12,
   "metadata": {},
   "outputs": [],
   "source": [
    "def RotX(c):\n",
    "    return np.array([\n",
    "    [1, 0, 0, 0], \n",
    "    [0, np.cos(c), -np.sin(c), 0],\n",
    "    [0, np.sin(c),np.cos(c), 0], \n",
    "    [0, 0, 0, 1]\n",
    "    ])\n",
    "\n",
    "def RotY(b):\n",
    "    return np.array([\n",
    "    [np.cos(b), 0, np.sin(b), 0], \n",
    "    [0, 1, 0, 0],\n",
    "    [-np.sin(b), 0,np.cos(b), 0], \n",
    "    [0, 0, 0, 1]\n",
    "    ])\n",
    "    \n",
    "def RotZ(a):\n",
    "    return np.array([\n",
    "    [np.cos(a), -np.sin(a), 0, 0], \n",
    "    [np.sin(a), np.cos(a), 0, 0],\n",
    "    [0, 0, 1, 0], \n",
    "    [0, 0, 0, 1]\n",
    "    ])"
   ]
  },
  {
   "cell_type": "code",
   "execution_count": 39,
   "metadata": {},
   "outputs": [
    {
     "data": {
      "text/plain": [
       "array([ 35.22966776,  29.91474791, -19.40168719])"
      ]
     },
     "execution_count": 39,
     "metadata": {},
     "output_type": "execute_result"
    }
   ],
   "source": [
    "from scipy.spatial.transform import Rotation\n",
    "\n",
    "rotation_matrix = (RotZ(np.pi/6) @ RotY(35.16/180*np.pi))[:3,:3]\n",
    "r = Rotation.from_matrix(rotation_matrix)\n",
    "angles = r.as_euler('zyx',degrees=True)\n",
    "angles \n"
   ]
  },
  {
   "cell_type": "code",
   "execution_count": 37,
   "metadata": {},
   "outputs": [
    {
     "data": {
      "text/plain": [
       "array([[ 0.16153455,  0.08118512,  0.98352202],\n",
       "       [ 0.09326202,  0.99089436, -0.09711111],\n",
       "       [-0.9824504 ,  0.10741205,  0.15249219]])"
      ]
     },
     "execution_count": 37,
     "metadata": {},
     "output_type": "execute_result"
    }
   ],
   "source": []
  },
  {
   "cell_type": "code",
   "execution_count": 41,
   "metadata": {},
   "outputs": [],
   "source": [
    "import math\n",
    "# Checks if a matrix is a valid rotation matrix.\n",
    "def isRotationMatrix(R) :\n",
    "    Rt = np.transpose(R)\n",
    "    shouldBeIdentity = np.dot(Rt, R)\n",
    "    I = np.identity(3, dtype = R.dtype)\n",
    "    n = np.linalg.norm(I - shouldBeIdentity)\n",
    "    return n < 1e-6\n",
    "# zyx\n",
    "def RotationMatrix2EulerAngles(R) :\n",
    " \n",
    "    assert(isRotationMatrix(R))\n",
    "     \n",
    "    sy = math.sqrt(R[0,0] * R[0,0] +  R[1,0] * R[1,0])\n",
    "     \n",
    "    singular = sy < 1e-6\n",
    " \n",
    "    if  not singular :\n",
    "        x = math.atan2(R[2,1] , R[2,2])\n",
    "        y = math.atan2(-R[2,0], sy)\n",
    "        z = math.atan2(R[1,0], R[0,0])\n",
    "    else :\n",
    "        x = math.atan2(-R[1,2], R[1,1])\n",
    "        y = math.atan2(-R[2,0], sy)\n",
    "        z = 0\n",
    " \n",
    "    return np.array([x, y, z])"
   ]
  },
  {
   "cell_type": "code",
   "execution_count": 43,
   "metadata": {},
   "outputs": [
    {
     "data": {
      "text/plain": [
       "array([35.16, 79.25, 30.  ])"
      ]
     },
     "execution_count": 43,
     "metadata": {},
     "output_type": "execute_result"
    }
   ],
   "source": [
    "rotation_matrix = (RotZ(30/180*np.pi) @ RotY(79.25/180*np.pi) @ RotX(35.16/180*np.pi))[:3,:3]\n",
    "RotationMatrix2EulerAngles(rotation_matrix) * 180/np.pi"
   ]
  },
  {
   "cell_type": "code",
   "execution_count": 36,
   "metadata": {},
   "outputs": [
    {
     "data": {
      "text/plain": [
       "array([[ 0.70801658, -0.5       ,  0.49871086],\n",
       "       [ 0.40877356,  0.8660254 ,  0.28793085],\n",
       "       [-0.5758617 ,  0.        ,  0.81754712]])"
      ]
     },
     "execution_count": 36,
     "metadata": {},
     "output_type": "execute_result"
    }
   ],
   "source": [
    "rotation_matrix"
   ]
  },
  {
   "cell_type": "code",
   "execution_count": null,
   "metadata": {},
   "outputs": [],
   "source": [
    "from robot_model_calibration import tcp_calibration"
   ]
  },
  {
   "cell_type": "code",
   "execution_count": 2,
   "metadata": {},
   "outputs": [
    {
     "ename": "TypeError",
     "evalue": "unsupported operand type(s) for @: 'list' and 'int'",
     "output_type": "error",
     "traceback": [
      "\u001b[1;31m---------------------------------------------------------------------------\u001b[0m",
      "\u001b[1;31mTypeError\u001b[0m                                 Traceback (most recent call last)",
      "Cell \u001b[1;32mIn[2], line 7\u001b[0m\n\u001b[0;32m      1\u001b[0m theta_rad \u001b[39m=\u001b[39m [\n\u001b[0;32m      2\u001b[0m         [\u001b[39m-\u001b[39m\u001b[39m8.3904\u001b[39m,\u001b[39m3.8788\u001b[39m,\u001b[39m-\u001b[39m\u001b[39m10.9276\u001b[39m,\u001b[39m-\u001b[39m\u001b[39m5.3444\u001b[39m,\u001b[39m63.3274\u001b[39m,\u001b[39m6.9619\u001b[39m],\n\u001b[0;32m      3\u001b[0m         [\u001b[39m7.4676\u001b[39m,\u001b[39m14.2118\u001b[39m,\u001b[39m-\u001b[39m\u001b[39m2.1832\u001b[39m,\u001b[39m4.6619\u001b[39m,\u001b[39m71.8547\u001b[39m,\u001b[39m20.8935\u001b[39m],\n\u001b[0;32m      4\u001b[0m         [\u001b[39m17.0466\u001b[39m,\u001b[39m-\u001b[39m\u001b[39m4.0912\u001b[39m,\u001b[39m-\u001b[39m\u001b[39m14.6422\u001b[39m,\u001b[39m14.4479\u001b[39m,\u001b[39m78.4667\u001b[39m,\u001b[39m5.6805\u001b[39m],\n\u001b[0;32m      5\u001b[0m         [\u001b[39m34.9356\u001b[39m,\u001b[39m0.9188\u001b[39m,\u001b[39m-\u001b[39m\u001b[39m7.6252\u001b[39m,\u001b[39m18.5939\u001b[39m,\u001b[39m82.0907\u001b[39m,\u001b[39m1.8525\u001b[39m]\n\u001b[0;32m      6\u001b[0m         ]\n\u001b[1;32m----> 7\u001b[0m theta_rad \u001b[39m@\u001b[39;49m \u001b[39m10\u001b[39;49m\n",
      "\u001b[1;31mTypeError\u001b[0m: unsupported operand type(s) for @: 'list' and 'int'"
     ]
    }
   ],
   "source": [
    "theta_rad = [\n",
    "        [-8.3904,3.8788,-10.9276,-5.3444,63.3274,6.9619],\n",
    "        [7.4676,14.2118,-2.1832,4.6619,71.8547,20.8935],\n",
    "        [17.0466,-4.0912,-14.6422,14.4479,78.4667,5.6805],\n",
    "        [34.9356,0.9188,-7.6252,18.5939,82.0907,1.8525]\n",
    "        ]\n"
   ]
  },
  {
   "cell_type": "code",
   "execution_count": 4,
   "metadata": {},
   "outputs": [
    {
     "data": {
      "text/plain": [
       "array([5, 4, 6])"
      ]
     },
     "execution_count": 4,
     "metadata": {},
     "output_type": "execute_result"
    }
   ],
   "source": [
    "import numpy as np\n",
    "a = np.array([1,2,3])\n",
    "b = np.array([4,2,3])\n",
    "a+b"
   ]
  },
  {
   "cell_type": "code",
   "execution_count": 9,
   "metadata": {},
   "outputs": [
    {
     "data": {
      "text/plain": [
       "[1, 2, 3]"
      ]
     },
     "execution_count": 9,
     "metadata": {},
     "output_type": "execute_result"
    }
   ],
   "source": [
    "a = [1,2,3]\n",
    "b = [4,2,3]\n",
    "a + b\n",
    "a"
   ]
  },
  {
   "cell_type": "code",
   "execution_count": 10,
   "metadata": {},
   "outputs": [
    {
     "data": {
      "text/plain": [
       "[[1, 2, 3], [4, 2, 3]]"
      ]
     },
     "execution_count": 10,
     "metadata": {},
     "output_type": "execute_result"
    }
   ],
   "source": [
    "[a,b]"
   ]
  },
  {
   "cell_type": "code",
   "execution_count": 8,
   "metadata": {},
   "outputs": [
    {
     "data": {
      "text/plain": [
       "[1, 2, 3, [4, 2, 3], [4, 2, 3]]"
      ]
     },
     "execution_count": 8,
     "metadata": {},
     "output_type": "execute_result"
    }
   ],
   "source": [
    "a"
   ]
  },
  {
   "cell_type": "code",
   "execution_count": 11,
   "metadata": {},
   "outputs": [],
   "source": [
    "def isRotationMatrix(R) :\n",
    "    R = np.matrix(R)\n",
    "    Rt = np.transpose(R)\n",
    "    shouldBeIdentity = np.dot(Rt, R)\n",
    "    I = np.identity(3, dtype = R.dtype)\n",
    "    n = np.linalg.norm(I - shouldBeIdentity)\n",
    "    print(n)\n",
    "    return n < 1e-6"
   ]
  },
  {
   "cell_type": "code",
   "execution_count": 22,
   "metadata": {},
   "outputs": [],
   "source": [
    "from robot_model_calibration import dh_model\n",
    "# dh 参数\n",
    "theta0 = [0,-np.pi/2,0,0,0,np.pi]\n",
    "d = [430,0,0,699.0476,0,115]\n",
    "a = [164.8701,549.6765,212.9389,0,0,0]\n",
    "alpha = [-np.pi/2,0,-np.pi/2,np.pi/2,-np.pi/2,0]\n",
    "beta = 0\n",
    "\n",
    "\n",
    "theta = [\n",
    "        [-8.3904,3.8788,-10.9276,-5.3444,63.3274,6.9619],\n",
    "        [7.4676,14.2118,-2.1832,4.6619,71.8547,20.8935],\n",
    "        [17.0466,-4.0912,-14.6422,14.4479,78.4667,5.6805],\n",
    "        [34.9356,0.9188,-7.6252,18.5939,82.0907,1.8525]\n",
    "        ]\n",
    "\n",
    "for i in range(len(theta)):\n",
    "    theta[i] = [item * np.pi/180 for item in theta[i]]\n",
    "for i in range(len(theta)):\n",
    "    theta[i] = [x+y for x,y in zip(theta[i],theta0)]\n",
    "\n",
    "pos = []\n",
    "rot = []\n",
    "for i in range(len(theta)):\n",
    "    pos.append(dh_model.RobotDHModel(theta[i],d,a,alpha,beta))\n",
    "    rot.append(pos[i].GetFCS()[:3,:3])\n",
    "\n"
   ]
  },
  {
   "cell_type": "code",
   "execution_count": 25,
   "metadata": {},
   "outputs": [
    {
     "name": "stdout",
     "output_type": "stream",
     "text": [
      "5.632010918916975e-16\n",
      "True\n",
      "2.3448518591720504e-16\n",
      "True\n",
      "5.715915496698613e-16\n",
      "True\n",
      "5.096219148640579e-16\n",
      "True\n"
     ]
    }
   ],
   "source": [
    "for i in range(len(rot)):\n",
    "    a = isRotationMatrix(rot[i])\n",
    "    print(a)"
   ]
  },
  {
   "cell_type": "code",
   "execution_count": null,
   "metadata": {},
   "outputs": [],
   "source": []
  },
  {
   "cell_type": "code",
   "execution_count": 15,
   "metadata": {},
   "outputs": [
    {
     "name": "stdout",
     "output_type": "stream",
     "text": [
      "<class 'numpy.matrix'>\n"
     ]
    }
   ],
   "source": [
    "print(type(pos[0].GetFCS()))"
   ]
  },
  {
   "cell_type": "code",
   "execution_count": 20,
   "metadata": {},
   "outputs": [],
   "source": [
    "a = np.array(pos[0].GetFCS()[:3,:3])"
   ]
  },
  {
   "cell_type": "code",
   "execution_count": 21,
   "metadata": {},
   "outputs": [
    {
     "data": {
      "text/plain": [
       "array([[-0.80408848,  0.25594058,  0.53659682],\n",
       "       [ 0.19863635,  0.96637687, -0.16327689],\n",
       "       [-0.56034393, -0.02470143, -0.82789161]])"
      ]
     },
     "execution_count": 21,
     "metadata": {},
     "output_type": "execute_result"
    }
   ],
   "source": [
    "a"
   ]
  },
  {
   "cell_type": "code",
   "execution_count": 18,
   "metadata": {},
   "outputs": [
    {
     "data": {
      "text/plain": [
       "array([[-8.04088476e-01,  1.98636348e-01, -5.60343934e-01,\n",
       "         0.00000000e+00],\n",
       "       [ 2.55940578e-01,  9.66376872e-01, -2.47014304e-02,\n",
       "         0.00000000e+00],\n",
       "       [ 5.36596816e-01, -1.63276886e-01, -8.27891608e-01,\n",
       "         0.00000000e+00],\n",
       "       [ 9.22087251e+02, -1.45679205e+02,  1.18032277e+03,\n",
       "         1.00000000e+00]])"
      ]
     },
     "execution_count": 18,
     "metadata": {},
     "output_type": "execute_result"
    }
   ],
   "source": [
    "a.T"
   ]
  },
  {
   "cell_type": "code",
   "execution_count": 19,
   "metadata": {},
   "outputs": [
    {
     "data": {
      "text/plain": [
       "(4, 4)"
      ]
     },
     "execution_count": 19,
     "metadata": {},
     "output_type": "execute_result"
    }
   ],
   "source": [
    "a.shape"
   ]
  },
  {
   "cell_type": "code",
   "execution_count": 59,
   "metadata": {},
   "outputs": [],
   "source": [
    "a = [[1,2,3],[4,5,6]]\n",
    "b = [[0,1,2],[3,4,5]]\n",
    "c = [1,2,3]\n",
    "d = [4,5,6]\n",
    "e = zip(c,d)"
   ]
  },
  {
   "cell_type": "code",
   "execution_count": 61,
   "metadata": {},
   "outputs": [
    {
     "name": "stdout",
     "output_type": "stream",
     "text": [
      "<zip object at 0x000001C43E1A99C0>\n"
     ]
    }
   ],
   "source": [
    "print(e)"
   ]
  },
  {
   "cell_type": "code",
   "execution_count": 29,
   "metadata": {},
   "outputs": [
    {
     "name": "stdout",
     "output_type": "stream",
     "text": [
      "[[1, 1, 1], [1, 1, 1]]\n"
     ]
    }
   ],
   "source": [
    "res = []\n",
    "for i in range(len(a)):\n",
    "    res.append([i - j for i,j in zip(a[i],b[i])])\n",
    "print(res)"
   ]
  },
  {
   "cell_type": "code",
   "execution_count": 40,
   "metadata": {},
   "outputs": [
    {
     "data": {
      "text/plain": [
       "[[[922.0872514177624, -145.67920490063784, 1180.322766021751]],\n",
       " [[1030.247152058211, 143.99984025046393, 911.4439343587217]],\n",
       " [[733.7601785325046, 254.3906964937899, 1308.4940431748996]],\n",
       " [[693.5762331590286, 528.7899890189292, 1167.3499994529739]]]"
      ]
     },
     "execution_count": 40,
     "metadata": {},
     "output_type": "execute_result"
    }
   ],
   "source": [
    "dist = [[[922.0872514177624, -145.67920490063784, 1180.322766021751]], [[1030.247152058211, 143.99984025046393, 911.4439343587217]], [[733.7601785325046, 254.3906964937899, 1308.4940431748996]], [[693.5762331590286, 528.7899890189292, 1167.3499994529739]]]\n",
    "dist"
   ]
  },
  {
   "cell_type": "code",
   "execution_count": 41,
   "metadata": {},
   "outputs": [
    {
     "data": {
      "text/plain": [
       "[[[922.0872514177624, -145.67920490063784, 1180.322766021751]],\n",
       " [[1030.247152058211, 143.99984025046393, 911.4439343587217]],\n",
       " [[733.7601785325046, 254.3906964937899, 1308.4940431748996]],\n",
       " [[693.5762331590286, 528.7899890189292, 1167.3499994529739]]]"
      ]
     },
     "execution_count": 41,
     "metadata": {},
     "output_type": "execute_result"
    }
   ],
   "source": [
    "dist = dist[:4]\n",
    "dist"
   ]
  },
  {
   "cell_type": "code",
   "execution_count": 42,
   "metadata": {},
   "outputs": [],
   "source": [
    "new_dist = []\n",
    "for i in range(len(dist)):\n",
    "    new_dist.append(dist[i][0])"
   ]
  },
  {
   "cell_type": "code",
   "execution_count": 43,
   "metadata": {},
   "outputs": [
    {
     "data": {
      "text/plain": [
       "[[922.0872514177624, -145.67920490063784, 1180.322766021751],\n",
       " [1030.247152058211, 143.99984025046393, 911.4439343587217],\n",
       " [733.7601785325046, 254.3906964937899, 1308.4940431748996],\n",
       " [693.5762331590286, 528.7899890189292, 1167.3499994529739]]"
      ]
     },
     "execution_count": 43,
     "metadata": {},
     "output_type": "execute_result"
    }
   ],
   "source": [
    "new_dist"
   ]
  },
  {
   "cell_type": "code",
   "execution_count": 52,
   "metadata": {},
   "outputs": [
    {
     "data": {
      "text/plain": [
       "[[1, 2, 3],\n",
       " [4, 5, 6],\n",
       " [[0, 1, 2], [3, 4, 5]],\n",
       " [[0, 1, 2], [3, 4, 5]],\n",
       " [0, 1, 2],\n",
       " [3, 4, 5]]"
      ]
     },
     "execution_count": 52,
     "metadata": {},
     "output_type": "execute_result"
    }
   ],
   "source": [
    "a"
   ]
  },
  {
   "cell_type": "code",
   "execution_count": 48,
   "metadata": {},
   "outputs": [],
   "source": [
    "c = a.extend(b)"
   ]
  },
  {
   "cell_type": "code",
   "execution_count": 49,
   "metadata": {},
   "outputs": [
    {
     "name": "stdout",
     "output_type": "stream",
     "text": [
      "None\n"
     ]
    }
   ],
   "source": [
    "print(c)"
   ]
  },
  {
   "cell_type": "code",
   "execution_count": 62,
   "metadata": {},
   "outputs": [
    {
     "name": "stdout",
     "output_type": "stream",
     "text": [
      "5.0\n",
      "(0, 0)\n",
      "(1, 1, red)\n",
      "(2, 2, green)\n",
      "(1, 1, maroon)\n",
      "(2, 2, forest green)\n",
      "6\n",
      "18\n",
      "Rectangle with top left corner at (0, 0) and dimensions 2 x 3\n",
      "6\n",
      "18\n",
      "Colored rectangle with top left corner at (0, 0), dimensions 2 x 3, and color red\n",
      "Colored rectangle with top left corner at (1, 1), dimensions 4 x 5, and color green\n",
      "Colored rectangle with top left corner at (0, 0), dimensions 2 x 3, and color maroon\n",
      "Colored rectangle with top left corner at (1, 1), dimensions 4 x 5, and color forest green\n"
     ]
    }
   ],
   "source": [
    "import math\n",
    "\n",
    "# Define a class for a 2D point\n",
    "class Point:\n",
    "    def __init__(self, x, y):\n",
    "        self.x = x\n",
    "        self.y = y\n",
    "    \n",
    "    def __str__(self):\n",
    "        return f\"({self.x}, {self.y})\" # return a formated string\n",
    "    \n",
    "    def distance(self, other):\n",
    "        return math.sqrt((self.x - other.x)**2 + (self.y - other.y)**2)\n",
    "\n",
    "# Define a subclass for a colored point\n",
    "class ColoredPoint(Point):\n",
    "    def __init__(self, x, y, color):\n",
    "        super().__init__(x, y)\n",
    "        self.color = color\n",
    "    \n",
    "    def __str__(self):\n",
    "        return f\"({self.x}, {self.y}, {self.color})\"\n",
    "    \n",
    "    def darken(self):\n",
    "        if self.color == \"red\":\n",
    "            self.color = \"maroon\"\n",
    "        elif self.color == \"green\":\n",
    "            self.color = \"forest green\"\n",
    "        elif self.color == \"blue\":\n",
    "            self.color = \"navy\"\n",
    "\n",
    "# Define a class for a rectangle\n",
    "class Rectangle:\n",
    "    def __init__(self, top_left, width, height):\n",
    "        self.top_left = top_left\n",
    "        self.width = width\n",
    "        self.height = height\n",
    "    \n",
    "    def __str__(self):\n",
    "        return f\"Rectangle with top left corner at {self.top_left} and dimensions {self.width} x {self.height}\"\n",
    "    \n",
    "    def area(self):\n",
    "        return self.width * self.height\n",
    "    \n",
    "    def perimeter(self):\n",
    "        return 2 * (self.width + self.height)\n",
    "\n",
    "# Define a subclass for a colored rectangle\n",
    "class ColoredRectangle(Rectangle):\n",
    "    def __init__(self, top_left, width, height, color):\n",
    "        super().__init__(top_left, width, height)\n",
    "        self.color = color\n",
    "    \n",
    "    def __str__(self):\n",
    "        return f\"Colored rectangle with top left corner at {self.top_left}, dimensions {self.width} x {self.height}, and color {self.color}\"\n",
    "    \n",
    "    def darken(self):\n",
    "        if self.color == \"red\":\n",
    "            self.color = \"maroon\"\n",
    "        elif self.color == \"green\":\n",
    "            self.color = \"forest green\"\n",
    "        elif self.color == \"blue\":\n",
    "            self.color = \"navy\"\n",
    "\n",
    "# Create some points\n",
    "p1 = Point(0, 0)\n",
    "p2 = Point(3, 4)\n",
    "print(p1.distance(p2))  # should print 5.0\n",
    "print(p1)  # should print (0, 0)\n",
    "\n",
    "# Create some colored points\n",
    "cp1 = ColoredPoint(1, 1, \"red\")\n",
    "cp2 = ColoredPoint(2, 2, \"green\")\n",
    "print(cp1)  # should print (1, 1, red)\n",
    "print(cp2)  # should print (2, 2, green)\n",
    "cp1.darken()\n",
    "cp2.darken()\n",
    "print(cp1)  # should print (1, 1, maroon)\n",
    "print(cp2)  # should print (2, 2, forest green)\n",
    "\n",
    "# Create some rectangles\n",
    "r1 = Rectangle(Point(0, 0), 2, 3)\n",
    "r2 = Rectangle(Point(1, 1), 4, 5)\n",
    "print(r1.area())  # should print 6\n",
    "print(r2.perimeter())  # should print 18\n",
    "print(r1)  # should print Rectangle with top left corner at (0, 0) and dimensions 2 x 3\n",
    "\n",
    "# Create some colored rectangles\n",
    "cr1 = ColoredRectangle(Point(0, 0), 2, 3, \"red\")\n",
    "cr2 = ColoredRectangle(Point(1, 1), 4, 5, \"green\")\n",
    "print(cr1.area())  # should print 6\n",
    "print(cr2.perimeter())  # should print 18\n",
    "print(cr1)  # should print Colored rectangle with top left corner at (0, 0), dimensions 2 x 3, and color red\n",
    "print(cr2)  # should print Colored rectangle with top left corner at (1, 1), dimensions 4 x 5, and color green\n",
    "cr1.darken()\n",
    "cr2.darken()\n",
    "print(cr1)  # should print Colored rectangle with top left corner at (0, 0), dimensions 2 x 3, and color maroon\n",
    "print(cr2)  # should print Colored rectangle with top left corner at (1, 1), dimensions 4 x 5, and color forest green\n",
    "\n"
   ]
  },
  {
   "cell_type": "code",
   "execution_count": 64,
   "metadata": {},
   "outputs": [
    {
     "name": "stdout",
     "output_type": "stream",
     "text": [
      "Fluffy\n",
      "gray\n",
      "Meow\n"
     ]
    },
    {
     "ename": "NotImplementedError",
     "evalue": "Subclass must implement abstract method",
     "output_type": "error",
     "traceback": [
      "\u001b[1;31m---------------------------------------------------------------------------\u001b[0m",
      "\u001b[1;31mNotImplementedError\u001b[0m                       Traceback (most recent call last)",
      "Cell \u001b[1;32mIn[64], line 21\u001b[0m\n\u001b[0;32m     19\u001b[0m \u001b[39mprint\u001b[39m(c\u001b[39m.\u001b[39mspeak())  \u001b[39m# should print \"Meow\"\u001b[39;00m\n\u001b[0;32m     20\u001b[0m a \u001b[39m=\u001b[39m Animal(\u001b[39m'\u001b[39m\u001b[39mDoggy\u001b[39m\u001b[39m'\u001b[39m)\n\u001b[1;32m---> 21\u001b[0m a\u001b[39m.\u001b[39;49mspeak()\n",
      "Cell \u001b[1;32mIn[64], line 6\u001b[0m, in \u001b[0;36mAnimal.speak\u001b[1;34m(self)\u001b[0m\n\u001b[0;32m      5\u001b[0m \u001b[39mdef\u001b[39;00m \u001b[39mspeak\u001b[39m(\u001b[39mself\u001b[39m):\n\u001b[1;32m----> 6\u001b[0m     \u001b[39mraise\u001b[39;00m \u001b[39mNotImplementedError\u001b[39;00m(\u001b[39m\"\u001b[39m\u001b[39mSubclass must implement abstract method\u001b[39m\u001b[39m\"\u001b[39m)\n",
      "\u001b[1;31mNotImplementedError\u001b[0m: Subclass must implement abstract method"
     ]
    }
   ],
   "source": [
    "class Animal:\n",
    "    def __init__(self, name):\n",
    "        self.name = name\n",
    "\n",
    "    def speak(self):\n",
    "        raise NotImplementedError(\"Subclass must implement abstract method\")\n",
    "\n",
    "class Cat(Animal):\n",
    "    def __init__(self, name, color):\n",
    "        super().__init__(name)\n",
    "        self.color = color\n",
    "\n",
    "    def speak(self):\n",
    "        return \"Meow\"\n",
    "\n",
    "c = Cat(\"Fluffy\", \"gray\")\n",
    "print(c.name)  # should print \"Fluffy\"\n",
    "print(c.color)  # should print \"gray\"\n",
    "print(c.speak())  # should print \"Meow\"\n",
    "a = Animal('Doggy')\n",
    "a.speak()"
   ]
  },
  {
   "cell_type": "code",
   "execution_count": 65,
   "metadata": {},
   "outputs": [
    {
     "name": "stdout",
     "output_type": "stream",
     "text": [
      "Calibrated transformation matrix:\n",
      "[[1. 0. 0. 0.]\n",
      " [0. 1. 0. 0.]\n",
      " [0. 0. 1. 0.]\n",
      " [0. 0. 0. 1.]]\n"
     ]
    }
   ],
   "source": [
    "import numpy as np\n",
    "\n",
    "# Define the known distances between points in the robot's tool coordinate system\n",
    "d1 = 10.0  # distance between points 1 and 2\n",
    "d2 = 5.0  # distance between points 2 and 3\n",
    "d3 = 8.0  # distance between points 1 and 3\n",
    "\n",
    "# Define the measured distances between the same points in the robot's current coordinate system\n",
    "measured_d1 = 10.2\n",
    "measured_d2 = 4.8\n",
    "measured_d3 = 7.9\n",
    "\n",
    "# Define the initial guess for the transformation matrix\n",
    "# This matrix represents a translation and rotation of the tool coordinate system\n",
    "# relative to the robot's current coordinate system\n",
    "# You can start with an identity matrix if you're not sure\n",
    "T_guess = np.eye(4)\n",
    "\n",
    "# Define the target distances and measured distances as arrays\n",
    "d_target = np.array([d1, d2, d3])\n",
    "d_measured = np.array([measured_d1, measured_d2, measured_d3])\n",
    "\n",
    "# Define a function to calculate the error between the target and measured distances\n",
    "def error(T, d_target, d_measured):\n",
    "    # Transform the target distances to the current coordinate system using the current transformation matrix\n",
    "    d_transformed = np.sqrt(np.sum((np.dot(T, np.array([[0, d_target[0], d_target[1], 1]]).T) - np.array([[0, d_measured[0], d_measured[1], 1]]).T)**2, axis=0))[:2]\n",
    "    # Return the difference between the transformed distances and the measured distances\n",
    "    return d_transformed - d_measured\n",
    "\n",
    "# Define a function to calculate the Jacobian matrix for the error function\n",
    "def jacobian(T, d_target, d_measured):\n",
    "    # Calculate the partial derivatives of the error function with respect to each element of the transformation matrix\n",
    "    delta = 1e-6\n",
    "    J = np.zeros((len(d_target), 6))\n",
    "    for i in range(6):\n",
    "        T_delta = T.copy()\n",
    "        T_delta[i//4,i%4] += delta\n",
    "        e_delta = error(T_delta, d_target, d_measured)\n",
    "        J[:,i] = (e_delta - error(T, d_target, d_measured))/delta\n",
    "    return J\n",
    "\n",
    "# Define a function to perform the calibration using the Levenberg-Marquardt algorithm\n",
    "def calibrate(T_guess, d_target, d_measured, max_iter=100, tol=1e-6):\n",
    "    T = T_guess.copy()\n",
    "    nu = 2.0\n",
    "    mu = 1e-3\n",
    "    for i in range(max_iter):\n",
    "        e = error(T, d_target, d_measured)\n",
    "        J = jacobian(T, d_target, d_measured)\n",
    "        JtJ = np.dot(J.T, J)\n",
    "        Jte = np.dot(J.T, e)\n",
    "        H = JtJ + mu * np.diag(np.diag(JtJ))\n",
    "        try:\n",
    "            delta = np.linalg.solve(H, -Jte)\n",
    "        except np.linalg.LinAlgError:\n",
    "            break\n",
    "        T_new = np.dot(np.dot(np.linalg.inv(np.dot(np.dot(J.T, J) + mu*np.eye(6), J.T)), JtJ), T - delta)\n",
    "        e_new = error(T_new, d_target, d_measured)\n",
    "        if np.sqrt(np.sum(e_new**2)) < tol:\n",
    "            T = T_new\n",
    "        if np.sqrt(np.sum(e_new**2)) < np.sqrt(np.sum(e**2)):\n",
    "            mu /= nu\n",
    "            T = T_new\n",
    "        else:\n",
    "            mu *= nu\n",
    "        if np.linalg.norm(delta) < tol:\n",
    "            break\n",
    "    return T\n",
    "\n",
    "# Call the calibration function and print the resulting transformation matrix\n",
    "T_calibrated = calibrate(T_guess, d_target, d_measured)\n",
    "print(\"Calibrated transformation matrix:\")\n",
    "print(T_calibrated)\n",
    "\n"
   ]
  },
  {
   "cell_type": "code",
   "execution_count": 67,
   "metadata": {},
   "outputs": [
    {
     "ename": "AttributeError",
     "evalue": "module 'os' has no attribute 'errno'",
     "output_type": "error",
     "traceback": [
      "\u001b[1;31m---------------------------------------------------------------------------\u001b[0m",
      "\u001b[1;31mAttributeError\u001b[0m                            Traceback (most recent call last)",
      "Cell \u001b[1;32mIn[67], line 2\u001b[0m\n\u001b[0;32m      1\u001b[0m \u001b[39mimport\u001b[39;00m \u001b[39mos\u001b[39;00m\n\u001b[1;32m----> 2\u001b[0m \u001b[39mprint\u001b[39m(\u001b[39mFileNotFoundError\u001b[39;00m(os\u001b[39m.\u001b[39;49merrno\u001b[39m.\u001b[39mENOENT, os\u001b[39m.\u001b[39mstrerror(os\u001b[39m.\u001b[39merrno\u001b[39m.\u001b[39mENOENT), \u001b[39m'\u001b[39m\u001b[39mfoobar\u001b[39m\u001b[39m'\u001b[39m))\n",
      "\u001b[1;31mAttributeError\u001b[0m: module 'os' has no attribute 'errno'"
     ]
    }
   ],
   "source": [
    "import os\n",
    "print(FileNotFoundError(os.errno.ENOENT, os.strerror(os.errno.ENOENT), 'foobar'))"
   ]
  },
  {
   "cell_type": "code",
   "execution_count": null,
   "metadata": {},
   "outputs": [],
   "source": []
  }
 ],
 "metadata": {
  "kernelspec": {
   "display_name": "robot",
   "language": "python",
   "name": "python3"
  },
  "language_info": {
   "codemirror_mode": {
    "name": "ipython",
    "version": 3
   },
   "file_extension": ".py",
   "mimetype": "text/x-python",
   "name": "python",
   "nbconvert_exporter": "python",
   "pygments_lexer": "ipython3",
   "version": "3.9.16"
  },
  "orig_nbformat": 4,
  "vscode": {
   "interpreter": {
    "hash": "18462b633541a727f06a2ea17624d27b1b828e599383896672f9d6ca95d5e205"
   }
  }
 },
 "nbformat": 4,
 "nbformat_minor": 2
}
